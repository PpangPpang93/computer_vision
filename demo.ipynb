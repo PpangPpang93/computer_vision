{
 "cells": [
  {
   "attachments": {},
   "cell_type": "markdown",
   "metadata": {},
   "source": [
    "## 1.get Chessboard corners"
   ]
  },
  {
   "cell_type": "code",
   "execution_count": 1,
   "metadata": {},
   "outputs": [],
   "source": [
    "from src.get_corners import getChessboardCorners, normalize_points"
   ]
  },
  {
   "cell_type": "code",
   "execution_count": 2,
   "metadata": {},
   "outputs": [
    {
     "name": "stdout",
     "output_type": "stream",
     "text": [
      "Processing Image :  /Users/ppangppang/Documents/dev/cv/data/Calibration_Imgs/IMG_20170209_042606.jpg\n",
      "Chessboard Detected \n",
      "Processing Image :  /Users/ppangppang/Documents/dev/cv/data/Calibration_Imgs/IMG_20170209_042608.jpg\n",
      "Chessboard Detected \n",
      "Processing Image :  /Users/ppangppang/Documents/dev/cv/data/Calibration_Imgs/IMG_20170209_042610.jpg\n",
      "Chessboard Detected \n",
      "Processing Image :  /Users/ppangppang/Documents/dev/cv/data/Calibration_Imgs/IMG_20170209_042612.jpg\n",
      "Chessboard Detected \n",
      "Processing Image :  /Users/ppangppang/Documents/dev/cv/data/Calibration_Imgs/IMG_20170209_042614.jpg\n",
      "Chessboard Detected \n",
      "Processing Image :  /Users/ppangppang/Documents/dev/cv/data/Calibration_Imgs/IMG_20170209_042616.jpg\n",
      "Chessboard Detected \n",
      "Processing Image :  /Users/ppangppang/Documents/dev/cv/data/Calibration_Imgs/IMG_20170209_042619.jpg\n",
      "Chessboard Detected \n",
      "Processing Image :  /Users/ppangppang/Documents/dev/cv/data/Calibration_Imgs/IMG_20170209_042621.jpg\n",
      "Chessboard Detected \n",
      "Processing Image :  /Users/ppangppang/Documents/dev/cv/data/Calibration_Imgs/IMG_20170209_042624.jpg\n",
      "Chessboard Detected \n",
      "Processing Image :  /Users/ppangppang/Documents/dev/cv/data/Calibration_Imgs/IMG_20170209_042627.jpg\n",
      "Chessboard Detected \n",
      "Processing Image :  /Users/ppangppang/Documents/dev/cv/data/Calibration_Imgs/IMG_20170209_042629.jpg\n",
      "Chessboard Detected \n",
      "Processing Image :  /Users/ppangppang/Documents/dev/cv/data/Calibration_Imgs/IMG_20170209_042630.jpg\n",
      "Chessboard Detected \n",
      "Processing Image :  /Users/ppangppang/Documents/dev/cv/data/Calibration_Imgs/IMG_20170209_042634.jpg\n",
      "Chessboard Detected \n"
     ]
    }
   ],
   "source": [
    "# Chessboard의 image 좌표, world 좌표 load\n",
    "chessboard_correspondences = getChessboardCorners(images=None, visualize = True)"
   ]
  },
  {
   "attachments": {},
   "cell_type": "markdown",
   "metadata": {},
   "source": [
    "## 2. chessboard 좌표 normalize"
   ]
  },
  {
   "cell_type": "code",
   "execution_count": 3,
   "metadata": {},
   "outputs": [],
   "source": [
    "# Normalizing the chessboard points for better results of homography\n",
    "chessboard_correspondences_normalized = normalize_points(chessboard_correspondences)"
   ]
  },
  {
   "attachments": {},
   "cell_type": "markdown",
   "metadata": {},
   "source": [
    "## 3.homography 연산"
   ]
  },
  {
   "cell_type": "code",
   "execution_count": 4,
   "metadata": {},
   "outputs": [],
   "source": [
    "from src.calc_homogeneous import compute_view_based_homography, h_refined"
   ]
  },
  {
   "cell_type": "code",
   "execution_count": 5,
   "metadata": {},
   "outputs": [
    {
     "name": "stdout",
     "output_type": "stream",
     "text": [
      "Reprojection error :  1.0131843561129406\n",
      "Reprojection error :  1.0082203742169988\n",
      "Reprojection error :  1.0860946169237227\n",
      "Reprojection error :  1.1750271524979705\n",
      "Reprojection error :  0.9340955718388242\n",
      "Reprojection error :  0.9969984852241014\n",
      "Reprojection error :  1.0710749361594527\n",
      "Reprojection error :  0.9558710463406693\n",
      "Reprojection error :  0.9955951759652899\n",
      "Reprojection error :  0.9434112270219359\n",
      "Reprojection error :  1.1064929638716887\n",
      "Reprojection error :  1.1760890142494036\n",
      "Reprojection error :  1.0120425182721253\n"
     ]
    }
   ],
   "source": [
    "# obtaining homography\n",
    "homography = []\n",
    "for correspondence in chessboard_correspondences_normalized:\n",
    "    homography.append(compute_view_based_homography(correspondence))"
   ]
  },
  {
   "attachments": {},
   "cell_type": "markdown",
   "metadata": {},
   "source": [
    "## 4. refine homography\n",
    "- optimizing"
   ]
  },
  {
   "cell_type": "code",
   "execution_count": 10,
   "metadata": {},
   "outputs": [],
   "source": [
    "# refining the obtsined homography\n",
    "homography_refined = []\n",
    "for i in range(len(homography)):\n",
    "    h_opt = h_refined(homography[i], chessboard_correspondences_normalized[i])\n",
    "    homography_refined.append(h_opt)"
   ]
  },
  {
   "attachments": {},
   "cell_type": "markdown",
   "metadata": {},
   "source": [
    "## 5. calibration matrix 연산"
   ]
  },
  {
   "cell_type": "code",
   "execution_count": 11,
   "metadata": {},
   "outputs": [],
   "source": [
    "from src.calc_calibration import get_intrinsic_parameters, estimateExtrinsicParams"
   ]
  },
  {
   "cell_type": "code",
   "execution_count": 12,
   "metadata": {},
   "outputs": [
    {
     "name": "stdout",
     "output_type": "stream",
     "text": [
      "[1360.7609389701554, -0.6324837708339514, 2057.5956321718427, 2044.5774366042053, -0.6683900115445063, 764.0173982268695]\n",
      "camera calibration matrix:  [[ 2.05759563e+03 -6.68390012e-01  7.64017398e+02]\n",
      " [ 0.00000000e+00  2.04457744e+03  1.36076094e+03]\n",
      " [ 0.00000000e+00  0.00000000e+00  1.00000000e+00]]\n",
      "extrinsic params:  [[ 0.034951    0.99870827  0.03187365 -2.77338574]\n",
      " [-0.98195026  0.02793704  0.18696121  0.31959841]\n",
      " [ 0.18588199 -0.03774798  0.98165827 17.28972538]]\n",
      "extrinsic params:  [[ 3.41593226e-02  1.00090669e+00 -1.02806126e-02 -3.05890743e+00]\n",
      " [-9.44205141e-01  3.53021970e-02  3.27925192e-01  8.85336218e-01]\n",
      " [ 3.27581735e-01 -1.35960114e-03  9.46267138e-01  1.56420349e+01]]\n",
      "extrinsic params:  [[ 0.04078828  0.99720876 -0.06079144 -2.90030839]\n",
      " [-0.89698641  0.06136165  0.43740759 -0.0881411 ]\n",
      " [ 0.44017236  0.03766137  0.89698554 14.71808679]]\n",
      "extrinsic params:  [[-2.94921007e-03  9.97920211e-01 -7.64928395e-02 -2.75032729e+00]\n",
      " [-8.53188280e-01  3.38348029e-02  5.20713331e-01 -1.56667305e-01]\n",
      " [ 5.21594729e-01  6.89704559e-02  8.51314042e-01  1.36784834e+01]]\n",
      "extrinsic params:  [[-4.91129406e-03  9.97092088e-01  3.47629598e-03 -2.94196666e+00]\n",
      " [-9.99987011e-01 -6.58419278e-03 -1.37562829e-03  3.09646434e+00]\n",
      " [-1.36247285e-03 -3.48531203e-03  9.97111474e-01  1.96770989e+01]]\n",
      "extrinsic params:  [[-1.14350960e-02  9.97367674e-01 -1.90822094e-02 -2.71052671e+00]\n",
      " [-9.99307728e-01 -9.42861530e-03  3.55310204e-02  2.31692264e+00]\n",
      " [ 3.54020324e-02  1.94294520e-02  9.96785041e-01  1.46659665e+01]]\n",
      "extrinsic params:  [[ 2.59221998e-02  9.96460141e-01  2.10520517e-02 -2.83232410e+00]\n",
      " [-9.96456401e-01  2.57542827e-02  8.03347698e-02  4.32367640e+00]\n",
      " [ 8.00167519e-02 -2.31950196e-02  9.93596693e-01  2.88173195e+01]]\n",
      "extrinsic params:  [[-2.30203925e-03  9.89466298e-01  8.04305463e-02 -2.04627258e+00]\n",
      " [-9.54421296e-01  1.65267884e-02 -2.95492108e-01  2.14946525e+00]\n",
      " [-2.98453833e-01 -7.91034979e-02  9.44329661e-01  2.34114849e+01]]\n",
      "extrinsic params:  [[-0.05395679  0.88668168  0.47210123 -0.41575785]\n",
      " [-0.99825805 -0.03942576 -0.04672887  2.83441058]\n",
      " [-0.02386483 -0.47386757  0.88726442 20.34956579]]\n",
      "extrinsic params:  [[-0.03366557 -0.91641967  0.4039905   2.98304222]\n",
      " [ 0.99857245 -0.05695536 -0.02446274 -2.84995926]\n",
      " [ 0.04146913  0.40220278  0.91702887 18.70016826]]\n",
      "extrinsic params:  [[-0.0364455  -0.79047075  0.61826351  2.8737423 ]\n",
      " [ 0.99151724 -0.11478147 -0.07642054 -2.94451454]\n",
      " [ 0.12476094  0.60911021  0.78794865 16.62147606]]\n",
      "extrinsic params:  [[-0.06701356 -0.73180335  0.67306498  1.76943301]\n",
      " [ 0.98592227 -0.16046855 -0.06802557 -2.95960313]\n",
      " [ 0.15318767  0.6577427   0.73225479 16.28387967]]\n",
      "extrinsic params:  [[-0.10503474  0.67990421  0.72649221 -1.79334527]\n",
      " [-0.99236569 -0.14521872 -0.031953    2.65399678]\n",
      " [ 0.06463771 -0.72262232  0.68996662 22.28763128]]\n"
     ]
    }
   ],
   "source": [
    "# obtaining the calibration matrix\n",
    "K = get_intrinsic_parameters(homography_refined)\n",
    "print(\"camera calibration matrix: \", K)\n",
    "\n",
    "extrinsic_para = []\n",
    "for i in range(len(homography_refined)):\n",
    "    extrinsic = estimateExtrinsicParams(K, homography_refined[i])\n",
    "    extrinsic_para.append(extrinsic)\n",
    "    print(\"extrinsic params: \", extrinsic)"
   ]
  },
  {
   "attachments": {},
   "cell_type": "markdown",
   "metadata": {},
   "source": [
    "## 6. distortion 연산\n",
    "- 최종적으로 calibration 연산한 objecto point 추정"
   ]
  },
  {
   "cell_type": "code",
   "execution_count": 13,
   "metadata": {},
   "outputs": [],
   "source": [
    "from src.calc_distortion import estimateReprojectionErrorDistortion"
   ]
  },
  {
   "cell_type": "code",
   "execution_count": 14,
   "metadata": {},
   "outputs": [
    {
     "name": "stderr",
     "output_type": "stream",
     "text": [
      "/var/folders/c0/q_ltjrb55gzc5wvhsv7s_vsh0000gn/T/ipykernel_58671/486309817.py:6: VisibleDeprecationWarning: Creating an ndarray from ragged nested sequences (which is a list-or-tuple of lists-or-tuples-or ndarrays with different lengths or shapes) is deprecated. If you meant to do this, you must specify 'dtype=object' when creating the ndarray.\n",
      "  optpoints = np.array(optpoints)\n"
     ]
    }
   ],
   "source": [
    "optpoints = []\n",
    "for i in range(len(chessboard_correspondences)):\n",
    "    image_points, object_points = chessboard_correspondences[i]\n",
    "    points = estimateReprojectionErrorDistortion(K, extrinsic_para[i], image_points, object_points)\n",
    "    optpoints.append(points)\n",
    "optpoints = np.array(optpoints)"
   ]
  },
  {
   "attachments": {},
   "cell_type": "markdown",
   "metadata": {},
   "source": [
    "## 7. 결과 시각화, 저장"
   ]
  },
  {
   "cell_type": "code",
   "execution_count": 6,
   "metadata": {},
   "outputs": [],
   "source": [
    "from src.visualization import visualize_pts"
   ]
  },
  {
   "cell_type": "code",
   "execution_count": 60,
   "metadata": {},
   "outputs": [],
   "source": [
    "import glob\n",
    "\n",
    "DATA_DIR = '/Users/ppangppang/Documents/dev/cv/data/Calibration_Imgs/'\n",
    "\n",
    "images = [each for each in glob.glob(DATA_DIR + \"*.jpg\")]\n",
    "images = sorted(images)\n",
    "for i in range(len(optpoints)):\n",
    "    image_points, object_points = chessboard_correspondences[i]\n",
    "    visualize_pts(image_points, optpoints, images[i], i)"
   ]
  },
  {
   "cell_type": "code",
   "execution_count": null,
   "metadata": {},
   "outputs": [],
   "source": []
  }
 ],
 "metadata": {
  "kernelspec": {
   "display_name": "base",
   "language": "python",
   "name": "python3"
  },
  "language_info": {
   "codemirror_mode": {
    "name": "ipython",
    "version": 3
   },
   "file_extension": ".py",
   "mimetype": "text/x-python",
   "name": "python",
   "nbconvert_exporter": "python",
   "pygments_lexer": "ipython3",
   "version": "3.9.15"
  },
  "orig_nbformat": 4
 },
 "nbformat": 4,
 "nbformat_minor": 2
}
